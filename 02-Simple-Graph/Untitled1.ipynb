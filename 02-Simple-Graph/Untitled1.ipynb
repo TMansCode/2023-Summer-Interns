{
 "cells": [
  {
   "cell_type": "code",
   "execution_count": 2,
   "id": "7eb32bea-68b4-4ba5-ab04-c9b3cd8cf03f",
   "metadata": {},
   "outputs": [
    {
     "ename": "SyntaxError",
     "evalue": "invalid syntax (3087476969.py, line 3)",
     "output_type": "error",
     "traceback": [
      "\u001b[1;36m  Cell \u001b[1;32mIn[2], line 3\u001b[1;36m\u001b[0m\n\u001b[1;33m    \"Kia: [Kia mass in pounds: 4502, Kia mass in kilograms:\" 2042.07284974],\u001b[0m\n\u001b[1;37m                                                             ^\u001b[0m\n\u001b[1;31mSyntaxError\u001b[0m\u001b[1;31m:\u001b[0m invalid syntax\n"
     ]
    }
   ],
   "source": [
    "table = {\n",
    "    \"Speeds\": [\"school\", \"town\", \"highway\"],\n",
    "    \"Kia: [Kia mass in pounds: 4502, Kia mass in kilograms:\" 2042.07284974],\n",
    "    \"Ford: [Ford mass in pounds: 6015, Ford mass in kilograms:\" 2728.3581055500003],\n",
    "    \"Fiat: [Fiat mass in pounds: 3305, Fiat mass in kilograms:\" 1499.12278285],\n",
    "    \"Dodge: [Dodge mass in pounds: 4073, Dodge mass in kilograms:\" 1847.48172301]\n",
    "}"
   ]
  },
  {
   "cell_type": "code",
   "execution_count": null,
   "id": "aa166985-9841-42a7-9366-68348fd52a47",
   "metadata": {},
   "outputs": [],
   "source": []
  }
 ],
 "metadata": {
  "kernelspec": {
   "display_name": "Python 3 (ipykernel)",
   "language": "python",
   "name": "python3"
  },
  "language_info": {
   "codemirror_mode": {
    "name": "ipython",
    "version": 3
   },
   "file_extension": ".py",
   "mimetype": "text/x-python",
   "name": "python",
   "nbconvert_exporter": "python",
   "pygments_lexer": "ipython3",
   "version": "3.8.16"
  }
 },
 "nbformat": 4,
 "nbformat_minor": 5
}

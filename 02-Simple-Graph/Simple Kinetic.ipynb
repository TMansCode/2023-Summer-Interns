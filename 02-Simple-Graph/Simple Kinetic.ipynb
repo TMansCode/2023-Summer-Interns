{
 "cells": [
  {
   "cell_type": "code",
   "execution_count": null,
   "id": "e20fe251-6c8d-4e09-81d2-3827b9410d77",
   "metadata": {},
   "outputs": [],
   "source": [
    "conda install -c conda-forge -c plotly jupyter-dash"
   ]
  },
  {
   "cell_type": "code",
   "execution_count": null,
   "id": "be8978cf-7817-4847-a7b9-f15fbf30ba65",
   "metadata": {},
   "outputs": [],
   "source": [
    "import plotly.express as px\n",
    "fig = px.line(\n",
    "    x=x,\n",
    "    x=y,\n",
    "    xaxis_title='Car names',\n",
    "    yaxis_title='Kinetic Speed',\n",
    ")\n",
    "\n",
    "#fig.show()\n",
    "To continue to use the same graph, however, update some aspects of the graph, use `fig.update_layout()` followed by `fig.show()`.\n",
    "python\n",
    "fig = px.update_layout(\n",
    "    title='Title For the Plot',\n",
    "    width=width_in_pixels,\n",
    "    height=height_in_pixels\n",
    ")\n",
    "fig.show()"
   ]
  },
  {
   "cell_type": "code",
   "execution_count": null,
   "id": "86ec6d11-bade-4e69-a908-cd131fedd161",
   "metadata": {},
   "outputs": [],
   "source": []
  }
 ],
 "metadata": {
  "kernelspec": {
   "display_name": "Python 3 (ipykernel)",
   "language": "python",
   "name": "python3"
  },
  "language_info": {
   "codemirror_mode": {
    "name": "ipython",
    "version": 3
   },
   "file_extension": ".py",
   "mimetype": "text/x-python",
   "name": "python",
   "nbconvert_exporter": "python",
   "pygments_lexer": "ipython3",
   "version": "3.8.16"
  }
 },
 "nbformat": 4,
 "nbformat_minor": 5
}

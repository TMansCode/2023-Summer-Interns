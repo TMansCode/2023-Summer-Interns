{
 "cells": [
  {
   "cell_type": "code",
   "execution_count": 26,
   "id": "70b347f1-182a-4dfe-a84c-705330946fcb",
   "metadata": {},
   "outputs": [
    {
     "name": "stdout",
     "output_type": "stream",
     "text": [
      "Addition:  True\n",
      "Subtraction:  True\n",
      "Multiplication:  True\n",
      "Division:  True\n",
      "Power:  True\n",
      "Square root: True\n",
      "Range: [1, 2, 3, 4, 5, 6, 7, 8, 9, 10]\n"
     ]
    }
   ],
   "source": [
    "# Physical Calculations and Use of Spreadsheets\n",
    "##Mathematical Operations\n",
    "import math\n",
    "x = 0\n",
    "###1\n",
    "print(\"Addition: \", 2 + 2 == 4)\n",
    "###2\n",
    "print(\"Subtraction: \", 4 - 2 == 2)\n",
    "###3\n",
    "print(\"Multiplication: \", 2 * 2 == 4)\n",
    "###4\n",
    "print(\"Division: \", 4 / 2 == 2)\n",
    "###5\n",
    "print(\"Power: \", 2 ** 3 == 8)\n",
    "###6\n",
    "print(\"Square root:\", 2 == math.sqrt(4))\n",
    "###7\n",
    "print(\"Range:\", list(range(1, 11 , 1)))"
   ]
  },
  {
   "cell_type": "markdown",
   "id": "b3a73d30-2f4e-413d-a2ba-3beb7610b24a",
   "metadata": {},
   "source": [
    "## Procedure\n",
    "###     Display Data"
   ]
  },
  {
   "cell_type": "code",
   "execution_count": 31,
   "id": "eaa6e4a1-bbea-4893-ae93-2e90815a7b25",
   "metadata": {},
   "outputs": [
    {
     "name": "stdout",
     "output_type": "stream",
     "text": [
      "    Experience (yr)  Ave. Income (k$)\n",
      "0                 1                35\n",
      "1                 2                37\n",
      "2                 3                41\n",
      "3                 4                44\n",
      "4                 5                48\n",
      "5                 6                56\n",
      "6                 7                59\n",
      "7                 8                60\n",
      "8                 9                67\n",
      "9                10                72\n",
      "10               11                76\n",
      "11               12                82\n",
      "12               13                84\n",
      "13               14                90\n",
      "14               15                95\n",
      "15               16               100\n",
      "16               17               105\n",
      "17               18                96\n",
      "18               19                65\n",
      "19               20                67\n"
     ]
    }
   ],
   "source": [
    "import pandas as pd\n",
    "import plotly.express as px\n",
    "import plotly.graph_objects as go\n",
    "data = {\n",
    "    'Experience (yr)': [1, 2, 3, 4, 5, 6, 7, 8, 9, 10, 11, 12, 13, 14, 15, 16, 17, 18, 19, 20],\n",
    "    'Ave. Income (k$)': [35, 37, 41, 44, 48, 56, 59, 60, 67, 72, 76, 82, 84, 90, 95, 100, 105, 96, 65, 67]\n",
    "}\n",
    "df = pd.DataFrame(data)\n",
    "print(df)"
   ]
  },
  {
   "cell_type": "markdown",
   "id": "d6e12554-dcbd-4c03-88bb-ed5b0fc9e1ba",
   "metadata": {},
   "source": [
    "### Graph it out"
   ]
  },
  {
   "cell_type": "code",
   "execution_count": 23,
   "id": "24df8ed3-b13d-4930-a964-aea3caaa7683",
   "metadata": {},
   "outputs": [
    {
     "data": {
      "application/vnd.plotly.v1+json": {
       "config": {
        "plotlyServerURL": "https://plot.ly"
       },
       "data": [
        {
         "mode": "markers",
         "name": "Income vs. Experience",
         "type": "scatter",
         "x": [
          1,
          2,
          3,
          4,
          5,
          6,
          7,
          8,
          9,
          10,
          11,
          12,
          13,
          14,
          15,
          16,
          17,
          18,
          19,
          20
         ],
         "y": [
          35,
          37,
          41,
          44,
          48,
          56,
          59,
          60,
          67,
          72,
          76,
          82,
          84,
          90,
          95,
          100,
          105,
          96,
          65,
          67
         ]
        }
       ],
       "layout": {
        "height": 800,
        "template": {
         "data": {
          "bar": [
           {
            "error_x": {
             "color": "#2a3f5f"
            },
            "error_y": {
             "color": "#2a3f5f"
            },
            "marker": {
             "line": {
              "color": "#E5ECF6",
              "width": 0.5
             },
             "pattern": {
              "fillmode": "overlay",
              "size": 10,
              "solidity": 0.2
             }
            },
            "type": "bar"
           }
          ],
          "barpolar": [
           {
            "marker": {
             "line": {
              "color": "#E5ECF6",
              "width": 0.5
             },
             "pattern": {
              "fillmode": "overlay",
              "size": 10,
              "solidity": 0.2
             }
            },
            "type": "barpolar"
           }
          ],
          "carpet": [
           {
            "aaxis": {
             "endlinecolor": "#2a3f5f",
             "gridcolor": "white",
             "linecolor": "white",
             "minorgridcolor": "white",
             "startlinecolor": "#2a3f5f"
            },
            "baxis": {
             "endlinecolor": "#2a3f5f",
             "gridcolor": "white",
             "linecolor": "white",
             "minorgridcolor": "white",
             "startlinecolor": "#2a3f5f"
            },
            "type": "carpet"
           }
          ],
          "choropleth": [
           {
            "colorbar": {
             "outlinewidth": 0,
             "ticks": ""
            },
            "type": "choropleth"
           }
          ],
          "contour": [
           {
            "colorbar": {
             "outlinewidth": 0,
             "ticks": ""
            },
            "colorscale": [
             [
              0,
              "#0d0887"
             ],
             [
              0.1111111111111111,
              "#46039f"
             ],
             [
              0.2222222222222222,
              "#7201a8"
             ],
             [
              0.3333333333333333,
              "#9c179e"
             ],
             [
              0.4444444444444444,
              "#bd3786"
             ],
             [
              0.5555555555555556,
              "#d8576b"
             ],
             [
              0.6666666666666666,
              "#ed7953"
             ],
             [
              0.7777777777777778,
              "#fb9f3a"
             ],
             [
              0.8888888888888888,
              "#fdca26"
             ],
             [
              1,
              "#f0f921"
             ]
            ],
            "type": "contour"
           }
          ],
          "contourcarpet": [
           {
            "colorbar": {
             "outlinewidth": 0,
             "ticks": ""
            },
            "type": "contourcarpet"
           }
          ],
          "heatmap": [
           {
            "colorbar": {
             "outlinewidth": 0,
             "ticks": ""
            },
            "colorscale": [
             [
              0,
              "#0d0887"
             ],
             [
              0.1111111111111111,
              "#46039f"
             ],
             [
              0.2222222222222222,
              "#7201a8"
             ],
             [
              0.3333333333333333,
              "#9c179e"
             ],
             [
              0.4444444444444444,
              "#bd3786"
             ],
             [
              0.5555555555555556,
              "#d8576b"
             ],
             [
              0.6666666666666666,
              "#ed7953"
             ],
             [
              0.7777777777777778,
              "#fb9f3a"
             ],
             [
              0.8888888888888888,
              "#fdca26"
             ],
             [
              1,
              "#f0f921"
             ]
            ],
            "type": "heatmap"
           }
          ],
          "heatmapgl": [
           {
            "colorbar": {
             "outlinewidth": 0,
             "ticks": ""
            },
            "colorscale": [
             [
              0,
              "#0d0887"
             ],
             [
              0.1111111111111111,
              "#46039f"
             ],
             [
              0.2222222222222222,
              "#7201a8"
             ],
             [
              0.3333333333333333,
              "#9c179e"
             ],
             [
              0.4444444444444444,
              "#bd3786"
             ],
             [
              0.5555555555555556,
              "#d8576b"
             ],
             [
              0.6666666666666666,
              "#ed7953"
             ],
             [
              0.7777777777777778,
              "#fb9f3a"
             ],
             [
              0.8888888888888888,
              "#fdca26"
             ],
             [
              1,
              "#f0f921"
             ]
            ],
            "type": "heatmapgl"
           }
          ],
          "histogram": [
           {
            "marker": {
             "pattern": {
              "fillmode": "overlay",
              "size": 10,
              "solidity": 0.2
             }
            },
            "type": "histogram"
           }
          ],
          "histogram2d": [
           {
            "colorbar": {
             "outlinewidth": 0,
             "ticks": ""
            },
            "colorscale": [
             [
              0,
              "#0d0887"
             ],
             [
              0.1111111111111111,
              "#46039f"
             ],
             [
              0.2222222222222222,
              "#7201a8"
             ],
             [
              0.3333333333333333,
              "#9c179e"
             ],
             [
              0.4444444444444444,
              "#bd3786"
             ],
             [
              0.5555555555555556,
              "#d8576b"
             ],
             [
              0.6666666666666666,
              "#ed7953"
             ],
             [
              0.7777777777777778,
              "#fb9f3a"
             ],
             [
              0.8888888888888888,
              "#fdca26"
             ],
             [
              1,
              "#f0f921"
             ]
            ],
            "type": "histogram2d"
           }
          ],
          "histogram2dcontour": [
           {
            "colorbar": {
             "outlinewidth": 0,
             "ticks": ""
            },
            "colorscale": [
             [
              0,
              "#0d0887"
             ],
             [
              0.1111111111111111,
              "#46039f"
             ],
             [
              0.2222222222222222,
              "#7201a8"
             ],
             [
              0.3333333333333333,
              "#9c179e"
             ],
             [
              0.4444444444444444,
              "#bd3786"
             ],
             [
              0.5555555555555556,
              "#d8576b"
             ],
             [
              0.6666666666666666,
              "#ed7953"
             ],
             [
              0.7777777777777778,
              "#fb9f3a"
             ],
             [
              0.8888888888888888,
              "#fdca26"
             ],
             [
              1,
              "#f0f921"
             ]
            ],
            "type": "histogram2dcontour"
           }
          ],
          "mesh3d": [
           {
            "colorbar": {
             "outlinewidth": 0,
             "ticks": ""
            },
            "type": "mesh3d"
           }
          ],
          "parcoords": [
           {
            "line": {
             "colorbar": {
              "outlinewidth": 0,
              "ticks": ""
             }
            },
            "type": "parcoords"
           }
          ],
          "pie": [
           {
            "automargin": true,
            "type": "pie"
           }
          ],
          "scatter": [
           {
            "fillpattern": {
             "fillmode": "overlay",
             "size": 10,
             "solidity": 0.2
            },
            "type": "scatter"
           }
          ],
          "scatter3d": [
           {
            "line": {
             "colorbar": {
              "outlinewidth": 0,
              "ticks": ""
             }
            },
            "marker": {
             "colorbar": {
              "outlinewidth": 0,
              "ticks": ""
             }
            },
            "type": "scatter3d"
           }
          ],
          "scattercarpet": [
           {
            "marker": {
             "colorbar": {
              "outlinewidth": 0,
              "ticks": ""
             }
            },
            "type": "scattercarpet"
           }
          ],
          "scattergeo": [
           {
            "marker": {
             "colorbar": {
              "outlinewidth": 0,
              "ticks": ""
             }
            },
            "type": "scattergeo"
           }
          ],
          "scattergl": [
           {
            "marker": {
             "colorbar": {
              "outlinewidth": 0,
              "ticks": ""
             }
            },
            "type": "scattergl"
           }
          ],
          "scattermapbox": [
           {
            "marker": {
             "colorbar": {
              "outlinewidth": 0,
              "ticks": ""
             }
            },
            "type": "scattermapbox"
           }
          ],
          "scatterpolar": [
           {
            "marker": {
             "colorbar": {
              "outlinewidth": 0,
              "ticks": ""
             }
            },
            "type": "scatterpolar"
           }
          ],
          "scatterpolargl": [
           {
            "marker": {
             "colorbar": {
              "outlinewidth": 0,
              "ticks": ""
             }
            },
            "type": "scatterpolargl"
           }
          ],
          "scatterternary": [
           {
            "marker": {
             "colorbar": {
              "outlinewidth": 0,
              "ticks": ""
             }
            },
            "type": "scatterternary"
           }
          ],
          "surface": [
           {
            "colorbar": {
             "outlinewidth": 0,
             "ticks": ""
            },
            "colorscale": [
             [
              0,
              "#0d0887"
             ],
             [
              0.1111111111111111,
              "#46039f"
             ],
             [
              0.2222222222222222,
              "#7201a8"
             ],
             [
              0.3333333333333333,
              "#9c179e"
             ],
             [
              0.4444444444444444,
              "#bd3786"
             ],
             [
              0.5555555555555556,
              "#d8576b"
             ],
             [
              0.6666666666666666,
              "#ed7953"
             ],
             [
              0.7777777777777778,
              "#fb9f3a"
             ],
             [
              0.8888888888888888,
              "#fdca26"
             ],
             [
              1,
              "#f0f921"
             ]
            ],
            "type": "surface"
           }
          ],
          "table": [
           {
            "cells": {
             "fill": {
              "color": "#EBF0F8"
             },
             "line": {
              "color": "white"
             }
            },
            "header": {
             "fill": {
              "color": "#C8D4E3"
             },
             "line": {
              "color": "white"
             }
            },
            "type": "table"
           }
          ]
         },
         "layout": {
          "annotationdefaults": {
           "arrowcolor": "#2a3f5f",
           "arrowhead": 0,
           "arrowwidth": 1
          },
          "autotypenumbers": "strict",
          "coloraxis": {
           "colorbar": {
            "outlinewidth": 0,
            "ticks": ""
           }
          },
          "colorscale": {
           "diverging": [
            [
             0,
             "#8e0152"
            ],
            [
             0.1,
             "#c51b7d"
            ],
            [
             0.2,
             "#de77ae"
            ],
            [
             0.3,
             "#f1b6da"
            ],
            [
             0.4,
             "#fde0ef"
            ],
            [
             0.5,
             "#f7f7f7"
            ],
            [
             0.6,
             "#e6f5d0"
            ],
            [
             0.7,
             "#b8e186"
            ],
            [
             0.8,
             "#7fbc41"
            ],
            [
             0.9,
             "#4d9221"
            ],
            [
             1,
             "#276419"
            ]
           ],
           "sequential": [
            [
             0,
             "#0d0887"
            ],
            [
             0.1111111111111111,
             "#46039f"
            ],
            [
             0.2222222222222222,
             "#7201a8"
            ],
            [
             0.3333333333333333,
             "#9c179e"
            ],
            [
             0.4444444444444444,
             "#bd3786"
            ],
            [
             0.5555555555555556,
             "#d8576b"
            ],
            [
             0.6666666666666666,
             "#ed7953"
            ],
            [
             0.7777777777777778,
             "#fb9f3a"
            ],
            [
             0.8888888888888888,
             "#fdca26"
            ],
            [
             1,
             "#f0f921"
            ]
           ],
           "sequentialminus": [
            [
             0,
             "#0d0887"
            ],
            [
             0.1111111111111111,
             "#46039f"
            ],
            [
             0.2222222222222222,
             "#7201a8"
            ],
            [
             0.3333333333333333,
             "#9c179e"
            ],
            [
             0.4444444444444444,
             "#bd3786"
            ],
            [
             0.5555555555555556,
             "#d8576b"
            ],
            [
             0.6666666666666666,
             "#ed7953"
            ],
            [
             0.7777777777777778,
             "#fb9f3a"
            ],
            [
             0.8888888888888888,
             "#fdca26"
            ],
            [
             1,
             "#f0f921"
            ]
           ]
          },
          "colorway": [
           "#636efa",
           "#EF553B",
           "#00cc96",
           "#ab63fa",
           "#FFA15A",
           "#19d3f3",
           "#FF6692",
           "#B6E880",
           "#FF97FF",
           "#FECB52"
          ],
          "font": {
           "color": "#2a3f5f"
          },
          "geo": {
           "bgcolor": "white",
           "lakecolor": "white",
           "landcolor": "#E5ECF6",
           "showlakes": true,
           "showland": true,
           "subunitcolor": "white"
          },
          "hoverlabel": {
           "align": "left"
          },
          "hovermode": "closest",
          "mapbox": {
           "style": "light"
          },
          "paper_bgcolor": "white",
          "plot_bgcolor": "#E5ECF6",
          "polar": {
           "angularaxis": {
            "gridcolor": "white",
            "linecolor": "white",
            "ticks": ""
           },
           "bgcolor": "#E5ECF6",
           "radialaxis": {
            "gridcolor": "white",
            "linecolor": "white",
            "ticks": ""
           }
          },
          "scene": {
           "xaxis": {
            "backgroundcolor": "#E5ECF6",
            "gridcolor": "white",
            "gridwidth": 2,
            "linecolor": "white",
            "showbackground": true,
            "ticks": "",
            "zerolinecolor": "white"
           },
           "yaxis": {
            "backgroundcolor": "#E5ECF6",
            "gridcolor": "white",
            "gridwidth": 2,
            "linecolor": "white",
            "showbackground": true,
            "ticks": "",
            "zerolinecolor": "white"
           },
           "zaxis": {
            "backgroundcolor": "#E5ECF6",
            "gridcolor": "white",
            "gridwidth": 2,
            "linecolor": "white",
            "showbackground": true,
            "ticks": "",
            "zerolinecolor": "white"
           }
          },
          "shapedefaults": {
           "line": {
            "color": "#2a3f5f"
           }
          },
          "ternary": {
           "aaxis": {
            "gridcolor": "white",
            "linecolor": "white",
            "ticks": ""
           },
           "baxis": {
            "gridcolor": "white",
            "linecolor": "white",
            "ticks": ""
           },
           "bgcolor": "#E5ECF6",
           "caxis": {
            "gridcolor": "white",
            "linecolor": "white",
            "ticks": ""
           }
          },
          "title": {
           "x": 0.05
          },
          "xaxis": {
           "automargin": true,
           "gridcolor": "white",
           "linecolor": "white",
           "ticks": "",
           "title": {
            "standoff": 15
           },
           "zerolinecolor": "white",
           "zerolinewidth": 2
          },
          "yaxis": {
           "automargin": true,
           "gridcolor": "white",
           "linecolor": "white",
           "ticks": "",
           "title": {
            "standoff": 15
           },
           "zerolinecolor": "white",
           "zerolinewidth": 2
          }
         }
        },
        "title": {
         "text": "Income vs. Experience"
        },
        "width": 800,
        "xaxis": {
         "autorange": true,
         "range": [
          -0.19481090589270011,
          21.1948109058927
         ],
         "title": {
          "text": "Experience (yr)"
         },
         "type": "linear"
        },
        "yaxis": {
         "autorange": true,
         "range": [
          30.58128973660309,
          109.41871026339692
         ],
         "title": {
          "text": "Income (k$)"
         },
         "type": "linear"
        }
       }
      },
      "text/html": [
       "<div>                            <div id=\"f9c0eb27-8de0-425a-91a5-bfe7aebf509e\" class=\"plotly-graph-div\" style=\"height:800px; width:800px;\"></div>            <script type=\"text/javascript\">                require([\"plotly\"], function(Plotly) {                    window.PLOTLYENV=window.PLOTLYENV || {};                                    if (document.getElementById(\"f9c0eb27-8de0-425a-91a5-bfe7aebf509e\")) {                    Plotly.newPlot(                        \"f9c0eb27-8de0-425a-91a5-bfe7aebf509e\",                        [{\"mode\":\"markers\",\"name\":\"Income vs. Experience\",\"x\":[1,2,3,4,5,6,7,8,9,10,11,12,13,14,15,16,17,18,19,20],\"y\":[35,37,41,44,48,56,59,60,67,72,76,82,84,90,95,100,105,96,65,67],\"type\":\"scatter\"}],                        {\"template\":{\"data\":{\"histogram2dcontour\":[{\"type\":\"histogram2dcontour\",\"colorbar\":{\"outlinewidth\":0,\"ticks\":\"\"},\"colorscale\":[[0.0,\"#0d0887\"],[0.1111111111111111,\"#46039f\"],[0.2222222222222222,\"#7201a8\"],[0.3333333333333333,\"#9c179e\"],[0.4444444444444444,\"#bd3786\"],[0.5555555555555556,\"#d8576b\"],[0.6666666666666666,\"#ed7953\"],[0.7777777777777778,\"#fb9f3a\"],[0.8888888888888888,\"#fdca26\"],[1.0,\"#f0f921\"]]}],\"choropleth\":[{\"type\":\"choropleth\",\"colorbar\":{\"outlinewidth\":0,\"ticks\":\"\"}}],\"histogram2d\":[{\"type\":\"histogram2d\",\"colorbar\":{\"outlinewidth\":0,\"ticks\":\"\"},\"colorscale\":[[0.0,\"#0d0887\"],[0.1111111111111111,\"#46039f\"],[0.2222222222222222,\"#7201a8\"],[0.3333333333333333,\"#9c179e\"],[0.4444444444444444,\"#bd3786\"],[0.5555555555555556,\"#d8576b\"],[0.6666666666666666,\"#ed7953\"],[0.7777777777777778,\"#fb9f3a\"],[0.8888888888888888,\"#fdca26\"],[1.0,\"#f0f921\"]]}],\"heatmap\":[{\"type\":\"heatmap\",\"colorbar\":{\"outlinewidth\":0,\"ticks\":\"\"},\"colorscale\":[[0.0,\"#0d0887\"],[0.1111111111111111,\"#46039f\"],[0.2222222222222222,\"#7201a8\"],[0.3333333333333333,\"#9c179e\"],[0.4444444444444444,\"#bd3786\"],[0.5555555555555556,\"#d8576b\"],[0.6666666666666666,\"#ed7953\"],[0.7777777777777778,\"#fb9f3a\"],[0.8888888888888888,\"#fdca26\"],[1.0,\"#f0f921\"]]}],\"heatmapgl\":[{\"type\":\"heatmapgl\",\"colorbar\":{\"outlinewidth\":0,\"ticks\":\"\"},\"colorscale\":[[0.0,\"#0d0887\"],[0.1111111111111111,\"#46039f\"],[0.2222222222222222,\"#7201a8\"],[0.3333333333333333,\"#9c179e\"],[0.4444444444444444,\"#bd3786\"],[0.5555555555555556,\"#d8576b\"],[0.6666666666666666,\"#ed7953\"],[0.7777777777777778,\"#fb9f3a\"],[0.8888888888888888,\"#fdca26\"],[1.0,\"#f0f921\"]]}],\"contourcarpet\":[{\"type\":\"contourcarpet\",\"colorbar\":{\"outlinewidth\":0,\"ticks\":\"\"}}],\"contour\":[{\"type\":\"contour\",\"colorbar\":{\"outlinewidth\":0,\"ticks\":\"\"},\"colorscale\":[[0.0,\"#0d0887\"],[0.1111111111111111,\"#46039f\"],[0.2222222222222222,\"#7201a8\"],[0.3333333333333333,\"#9c179e\"],[0.4444444444444444,\"#bd3786\"],[0.5555555555555556,\"#d8576b\"],[0.6666666666666666,\"#ed7953\"],[0.7777777777777778,\"#fb9f3a\"],[0.8888888888888888,\"#fdca26\"],[1.0,\"#f0f921\"]]}],\"surface\":[{\"type\":\"surface\",\"colorbar\":{\"outlinewidth\":0,\"ticks\":\"\"},\"colorscale\":[[0.0,\"#0d0887\"],[0.1111111111111111,\"#46039f\"],[0.2222222222222222,\"#7201a8\"],[0.3333333333333333,\"#9c179e\"],[0.4444444444444444,\"#bd3786\"],[0.5555555555555556,\"#d8576b\"],[0.6666666666666666,\"#ed7953\"],[0.7777777777777778,\"#fb9f3a\"],[0.8888888888888888,\"#fdca26\"],[1.0,\"#f0f921\"]]}],\"mesh3d\":[{\"type\":\"mesh3d\",\"colorbar\":{\"outlinewidth\":0,\"ticks\":\"\"}}],\"scatter\":[{\"fillpattern\":{\"fillmode\":\"overlay\",\"size\":10,\"solidity\":0.2},\"type\":\"scatter\"}],\"parcoords\":[{\"type\":\"parcoords\",\"line\":{\"colorbar\":{\"outlinewidth\":0,\"ticks\":\"\"}}}],\"scatterpolargl\":[{\"type\":\"scatterpolargl\",\"marker\":{\"colorbar\":{\"outlinewidth\":0,\"ticks\":\"\"}}}],\"bar\":[{\"error_x\":{\"color\":\"#2a3f5f\"},\"error_y\":{\"color\":\"#2a3f5f\"},\"marker\":{\"line\":{\"color\":\"#E5ECF6\",\"width\":0.5},\"pattern\":{\"fillmode\":\"overlay\",\"size\":10,\"solidity\":0.2}},\"type\":\"bar\"}],\"scattergeo\":[{\"type\":\"scattergeo\",\"marker\":{\"colorbar\":{\"outlinewidth\":0,\"ticks\":\"\"}}}],\"scatterpolar\":[{\"type\":\"scatterpolar\",\"marker\":{\"colorbar\":{\"outlinewidth\":0,\"ticks\":\"\"}}}],\"histogram\":[{\"marker\":{\"pattern\":{\"fillmode\":\"overlay\",\"size\":10,\"solidity\":0.2}},\"type\":\"histogram\"}],\"scattergl\":[{\"type\":\"scattergl\",\"marker\":{\"colorbar\":{\"outlinewidth\":0,\"ticks\":\"\"}}}],\"scatter3d\":[{\"type\":\"scatter3d\",\"line\":{\"colorbar\":{\"outlinewidth\":0,\"ticks\":\"\"}},\"marker\":{\"colorbar\":{\"outlinewidth\":0,\"ticks\":\"\"}}}],\"scattermapbox\":[{\"type\":\"scattermapbox\",\"marker\":{\"colorbar\":{\"outlinewidth\":0,\"ticks\":\"\"}}}],\"scatterternary\":[{\"type\":\"scatterternary\",\"marker\":{\"colorbar\":{\"outlinewidth\":0,\"ticks\":\"\"}}}],\"scattercarpet\":[{\"type\":\"scattercarpet\",\"marker\":{\"colorbar\":{\"outlinewidth\":0,\"ticks\":\"\"}}}],\"carpet\":[{\"aaxis\":{\"endlinecolor\":\"#2a3f5f\",\"gridcolor\":\"white\",\"linecolor\":\"white\",\"minorgridcolor\":\"white\",\"startlinecolor\":\"#2a3f5f\"},\"baxis\":{\"endlinecolor\":\"#2a3f5f\",\"gridcolor\":\"white\",\"linecolor\":\"white\",\"minorgridcolor\":\"white\",\"startlinecolor\":\"#2a3f5f\"},\"type\":\"carpet\"}],\"table\":[{\"cells\":{\"fill\":{\"color\":\"#EBF0F8\"},\"line\":{\"color\":\"white\"}},\"header\":{\"fill\":{\"color\":\"#C8D4E3\"},\"line\":{\"color\":\"white\"}},\"type\":\"table\"}],\"barpolar\":[{\"marker\":{\"line\":{\"color\":\"#E5ECF6\",\"width\":0.5},\"pattern\":{\"fillmode\":\"overlay\",\"size\":10,\"solidity\":0.2}},\"type\":\"barpolar\"}],\"pie\":[{\"automargin\":true,\"type\":\"pie\"}]},\"layout\":{\"autotypenumbers\":\"strict\",\"colorway\":[\"#636efa\",\"#EF553B\",\"#00cc96\",\"#ab63fa\",\"#FFA15A\",\"#19d3f3\",\"#FF6692\",\"#B6E880\",\"#FF97FF\",\"#FECB52\"],\"font\":{\"color\":\"#2a3f5f\"},\"hovermode\":\"closest\",\"hoverlabel\":{\"align\":\"left\"},\"paper_bgcolor\":\"white\",\"plot_bgcolor\":\"#E5ECF6\",\"polar\":{\"bgcolor\":\"#E5ECF6\",\"angularaxis\":{\"gridcolor\":\"white\",\"linecolor\":\"white\",\"ticks\":\"\"},\"radialaxis\":{\"gridcolor\":\"white\",\"linecolor\":\"white\",\"ticks\":\"\"}},\"ternary\":{\"bgcolor\":\"#E5ECF6\",\"aaxis\":{\"gridcolor\":\"white\",\"linecolor\":\"white\",\"ticks\":\"\"},\"baxis\":{\"gridcolor\":\"white\",\"linecolor\":\"white\",\"ticks\":\"\"},\"caxis\":{\"gridcolor\":\"white\",\"linecolor\":\"white\",\"ticks\":\"\"}},\"coloraxis\":{\"colorbar\":{\"outlinewidth\":0,\"ticks\":\"\"}},\"colorscale\":{\"sequential\":[[0.0,\"#0d0887\"],[0.1111111111111111,\"#46039f\"],[0.2222222222222222,\"#7201a8\"],[0.3333333333333333,\"#9c179e\"],[0.4444444444444444,\"#bd3786\"],[0.5555555555555556,\"#d8576b\"],[0.6666666666666666,\"#ed7953\"],[0.7777777777777778,\"#fb9f3a\"],[0.8888888888888888,\"#fdca26\"],[1.0,\"#f0f921\"]],\"sequentialminus\":[[0.0,\"#0d0887\"],[0.1111111111111111,\"#46039f\"],[0.2222222222222222,\"#7201a8\"],[0.3333333333333333,\"#9c179e\"],[0.4444444444444444,\"#bd3786\"],[0.5555555555555556,\"#d8576b\"],[0.6666666666666666,\"#ed7953\"],[0.7777777777777778,\"#fb9f3a\"],[0.8888888888888888,\"#fdca26\"],[1.0,\"#f0f921\"]],\"diverging\":[[0,\"#8e0152\"],[0.1,\"#c51b7d\"],[0.2,\"#de77ae\"],[0.3,\"#f1b6da\"],[0.4,\"#fde0ef\"],[0.5,\"#f7f7f7\"],[0.6,\"#e6f5d0\"],[0.7,\"#b8e186\"],[0.8,\"#7fbc41\"],[0.9,\"#4d9221\"],[1,\"#276419\"]]},\"xaxis\":{\"gridcolor\":\"white\",\"linecolor\":\"white\",\"ticks\":\"\",\"title\":{\"standoff\":15},\"zerolinecolor\":\"white\",\"automargin\":true,\"zerolinewidth\":2},\"yaxis\":{\"gridcolor\":\"white\",\"linecolor\":\"white\",\"ticks\":\"\",\"title\":{\"standoff\":15},\"zerolinecolor\":\"white\",\"automargin\":true,\"zerolinewidth\":2},\"scene\":{\"xaxis\":{\"backgroundcolor\":\"#E5ECF6\",\"gridcolor\":\"white\",\"linecolor\":\"white\",\"showbackground\":true,\"ticks\":\"\",\"zerolinecolor\":\"white\",\"gridwidth\":2},\"yaxis\":{\"backgroundcolor\":\"#E5ECF6\",\"gridcolor\":\"white\",\"linecolor\":\"white\",\"showbackground\":true,\"ticks\":\"\",\"zerolinecolor\":\"white\",\"gridwidth\":2},\"zaxis\":{\"backgroundcolor\":\"#E5ECF6\",\"gridcolor\":\"white\",\"linecolor\":\"white\",\"showbackground\":true,\"ticks\":\"\",\"zerolinecolor\":\"white\",\"gridwidth\":2}},\"shapedefaults\":{\"line\":{\"color\":\"#2a3f5f\"}},\"annotationdefaults\":{\"arrowcolor\":\"#2a3f5f\",\"arrowhead\":0,\"arrowwidth\":1},\"geo\":{\"bgcolor\":\"white\",\"landcolor\":\"#E5ECF6\",\"subunitcolor\":\"white\",\"showland\":true,\"showlakes\":true,\"lakecolor\":\"white\"},\"title\":{\"x\":0.05},\"mapbox\":{\"style\":\"light\"}}},\"title\":{\"text\":\"Income vs. Experience\"},\"xaxis\":{\"title\":{\"text\":\"Experience (yr)\"}},\"yaxis\":{\"title\":{\"text\":\"Income (k$)\"}},\"width\":800,\"height\":800},                        {\"responsive\": true}                    ).then(function(){\n",
       "                            \n",
       "var gd = document.getElementById('f9c0eb27-8de0-425a-91a5-bfe7aebf509e');\n",
       "var x = new MutationObserver(function (mutations, observer) {{\n",
       "        var display = window.getComputedStyle(gd).display;\n",
       "        if (!display || display === 'none') {{\n",
       "            console.log([gd, 'removed!']);\n",
       "            Plotly.purge(gd);\n",
       "            observer.disconnect();\n",
       "        }}\n",
       "}});\n",
       "\n",
       "// Listen for the removal of the full notebook cells\n",
       "var notebookContainer = gd.closest('#notebook-container');\n",
       "if (notebookContainer) {{\n",
       "    x.observe(notebookContainer, {childList: true});\n",
       "}}\n",
       "\n",
       "// Listen for the clearing of the current output cell\n",
       "var outputEl = gd.closest('.output');\n",
       "if (outputEl) {{\n",
       "    x.observe(outputEl, {childList: true});\n",
       "}}\n",
       "\n",
       "                        })                };                });            </script>        </div>"
      ]
     },
     "metadata": {},
     "output_type": "display_data"
    }
   ],
   "source": [
    "import plotly.graph_objects as go\n",
    "\n",
    "data = {\n",
    "    'Experience_yr': [1, 2, 3, 4, 5, 6, 7, 8, 9, 10, 11, 12, 13, 14, 15, 16, 17, 18, 19, 20],\n",
    "    'Ave_Income_k': [35, 37, 41, 44, 48, 56, 59, 60, 67, 72, 76, 82, 84, 90, 95, 100, 105, 96, 65, 67]\n",
    "}\n",
    "###Creating the plotly figure\n",
    "fig = go.Figure()\n",
    "###Adding a scatter plot for the graph below\n",
    "fig.add_trace(go.Scatter(x=data['Experience_yr'], y=data['Ave_Income_k'], mode='markers', name='Income vs. Experience'))\n",
    "\n",
    "### Updating the layout\n",
    "fig.update_layout(\n",
    "    title='Income vs. Experience',\n",
    "    xaxis_title='Experience (yr)',\n",
    "    yaxis_title='Income (k$)',\n",
    "    width=800,\n",
    "    height=800\n",
    ")\n",
    "\n",
    "fig.show()"
   ]
  },
  {
   "cell_type": "markdown",
   "id": "35ae88f7-97d9-45bc-a04b-a893888eaa9b",
   "metadata": {},
   "source": [
    "### Explination to a change in sheets\n",
    "#### To correct an error in a sheet for a column, you change the value within the 19th slot of the Experience value and the 19th slot of the Income value of 19 and 78 respectively."
   ]
  },
  {
   "cell_type": "markdown",
   "id": "4dbb9f51-6a4f-4f01-89d6-df9d0216ae61",
   "metadata": {},
   "source": [
    "### Rectangular Block Data"
   ]
  },
  {
   "cell_type": "code",
   "execution_count": 30,
   "id": "9c273efd-7451-43f0-b1ce-a65e54f42f03",
   "metadata": {},
   "outputs": [
    {
     "name": "stdout",
     "output_type": "stream",
     "text": [
      "   L(m)  W(m)  Height  MASS\n",
      "0  1.24  1.14    0.29  4560\n"
     ]
    }
   ],
   "source": [
    "import pandas as pd\n",
    "import plotly.express as px\n",
    "import plotly.graph_objects as go\n",
    "\n",
    "data = {\n",
    "    'L(m)': [1.24],\n",
    "    'W(m)': [1.14],\n",
    "    'Height': [0.29],\n",
    "    'MASS': [4560]\n",
    "}\n",
    "\n",
    "df = pd.DataFrame(data)\n",
    "print(df)"
   ]
  },
  {
   "cell_type": "markdown",
   "id": "565d3067-64cc-426a-8e41-ac06174e62d0",
   "metadata": {},
   "source": [
    "### Create a heading with units area, surface area, and volume"
   ]
  },
  {
   "cell_type": "markdown",
   "id": "4a93e690-c015-4a15-be35-b68962a515cc",
   "metadata": {},
   "source": [
    "#### Area of the top of the block"
   ]
  },
  {
   "cell_type": "markdown",
   "id": "01fd577f-fc97-44b7-8f76-6642665c8253",
   "metadata": {},
   "source": [
    "##### Convert the data to a DataFrame"
   ]
  },
  {
   "cell_type": "code",
   "execution_count": 48,
   "id": "5cdd56e8-737c-4e46-9e3a-2355486ce9cb",
   "metadata": {},
   "outputs": [
    {
     "name": "stdout",
     "output_type": "stream",
     "text": [
      "   L(m)  W(m)  Height  MASS\n",
      "0  1.24  1.14    0.29  4560\n"
     ]
    }
   ],
   "source": [
    "import pandas as pd\n",
    "data = {\n",
    "    'L(m)': [1.24],\n",
    "    'W(m)': [1.14],\n",
    "    'Height': [0.29],\n",
    "    'MASS': [4560]\n",
    "}\n",
    "df = pd.DataFrame(data)\n",
    "print(df)"
   ]
  },
  {
   "cell_type": "markdown",
   "id": "a41f9514-e08c-43c9-ace2-c1ca8c829585",
   "metadata": {},
   "source": [
    "##### Calculate the area of the top of the block and Printing the result"
   ]
  },
  {
   "cell_type": "code",
   "execution_count": 60,
   "id": "a5c07e9e-7789-4dcc-abbe-4c0e87b7515e",
   "metadata": {},
   "outputs": [
    {
     "name": "stdout",
     "output_type": "stream",
     "text": [
      "The area of the top of the block is: 1.4136 square meters\n"
     ]
    }
   ],
   "source": [
    "import pandas as pd\n",
    "\n",
    "data = {\n",
    "    'L(m)': [1.24],\n",
    "    'W(m)': [1.14],\n",
    "    'Height': [0.29],\n",
    "    'MASS': [4560]\n",
    "}\n",
    "\n",
    "df = pd.DataFrame(data)\n",
    "\n",
    "length = df['L(m)'].values[0]\n",
    "width = df['W(m)'].values[0]\n",
    "\n",
    "area = length * width\n",
    "\n",
    "print(\"The area of the top of the block is:\", area, \"square meters\")"
   ]
  },
  {
   "cell_type": "markdown",
   "id": "84ce2450-c6f3-4323-aa99-2b65b995e77f",
   "metadata": {},
   "source": [
    "######  You should probably change the line of significant figures to '-int(math.log10(abs(area))) + 1' \n",
    "###### if you want to include the leading zero as a significant figure"
   ]
  },
  {
   "cell_type": "code",
   "execution_count": 56,
   "id": "e12eda4f-493c-49a5-809a-c8e4e9f22621",
   "metadata": {},
   "outputs": [
    {
     "name": "stdout",
     "output_type": "stream",
     "text": [
      "Area of the top of the block is: 1.0\n"
     ]
    }
   ],
   "source": [
    "import math\n",
    "area = df['L(m)'][0] * df['W(m)'][0]\n",
    "num_significant_figures = min(\n",
    "    -int(math.floor(math.log10(abs(area)))),\n",
    "0\n",
    ")\n",
    "rounded_area = round(area, num_significant_figures)\n",
    "print(\"Area of the top of the block is:\", rounded_area)"
   ]
  },
  {
   "cell_type": "markdown",
   "id": "6e43491b-fcb2-4ee1-82e5-d8af8033ebf5",
   "metadata": {},
   "source": [
    "#### It's total surface area"
   ]
  },
  {
   "cell_type": "code",
   "execution_count": 59,
   "id": "b8f20610-05d0-4c09-b415-98baea8b0c24",
   "metadata": {},
   "outputs": [
    {
     "name": "stdout",
     "output_type": "stream",
     "text": [
      "The Surface area is: 0.4\n"
     ]
    }
   ],
   "source": [
    "import pandas as pd\n",
    "import math\n",
    "\n",
    "data = {\n",
    "    'L(m)': [1.24],\n",
    "    'W(m)': [1.14],\n",
    "    'Height': [0.29],\n",
    "    'MASS': [4560]\n",
    "}\n",
    "\n",
    "length = data['L(m)'][0]\n",
    "width = data['W(m)'][0]\n",
    "height = data['Height'][0]\n",
    "\n",
    "surface_area = length * width * height\n",
    "\n",
    "num_significant_figures = -int(math.floor(math.log10(abs(surface_area))))\n",
    "\n",
    "rounded_surface_area = round(surface_area, num_significant_figures)\n",
    "\n",
    "print(\"The Surface area is:\", rounded_surface_area)"
   ]
  },
  {
   "cell_type": "markdown",
   "id": "54c05fc0-8798-47c8-805a-d8e3f156a462",
   "metadata": {},
   "source": [
    "##### The density"
   ]
  },
  {
   "cell_type": "code",
   "execution_count": 61,
   "id": "a15f746b-315c-419a-aaa9-6d26b1f37fb9",
   "metadata": {},
   "outputs": [
    {
     "name": "stdout",
     "output_type": "stream",
     "text": [
      "The density is: 11123.0\n"
     ]
    }
   ],
   "source": [
    "import pandas as pd\n",
    "import math\n",
    "\n",
    "data = {\n",
    "    'L(m)': [1.24],\n",
    "    'W(m)': [1.14],\n",
    "    'Height': [0.29],\n",
    "    'MASS': [4560]\n",
    "}\n",
    "\n",
    "length = data['L(m)'][0]\n",
    "width = data['W(m)'][0]\n",
    "height = data['Height'][0]\n",
    "mass = data['MASS'][0]\n",
    "\n",
    "volume = length * width * height\n",
    "rounded_volume = round(volume, num_significant_figures)\n",
    "surface_area = 2 * (length * width + length * height + width * height)\n",
    "density = mass / volume\n",
    "\n",
    "num_significant_figures = -int(math.floor(math.log10(abs(surface_area))))\n",
    "rounded_density = round(density, num_significant_figures)\n",
    "print(\"The density is:\", rounded_density)"
   ]
  },
  {
   "cell_type": "markdown",
   "id": "88ddc622-f4be-4c35-80e4-603856301fdc",
   "metadata": {},
   "source": [
    "##### Are those my Final Answers?"
   ]
  },
  {
   "cell_type": "code",
   "execution_count": 64,
   "id": "dd31936c-5122-4d69-a4ee-2c526048f462",
   "metadata": {},
   "outputs": [
    {
     "name": "stdout",
     "output_type": "stream",
     "text": [
      "Area of the top of the block is: 1.0\n",
      "The Surface area is: 0.4\n",
      "The Volume is: 0.0\n",
      "The density is: 11123.0\n"
     ]
    }
   ],
   "source": [
    "print(\"Area of the top of the block is:\", rounded_area)\n",
    "print(\"The Surface area is:\", rounded_surface_area)\n",
    "volume = length * width * height\n",
    "rounded_volume = round(volume, num_significant_figures)\n",
    "print(\"The Volume is:\", rounded_volume)\n",
    "print(\"The density is:\", rounded_density)"
   ]
  },
  {
   "cell_type": "markdown",
   "id": "e1ee2836-76e2-4443-a9b0-87b0c932ef4d",
   "metadata": {},
   "source": [
    "##### Suppose you found that you made an error in measuring the length, which is actually 1.34 m. I would change the value of the out by replacing it with the corrected value in the spreadsheet. I would have to round the answer to the corrected significant figures should I do my calculations on a pocket calculator. "
   ]
  },
  {
   "cell_type": "markdown",
   "id": "cda9f2d9-680a-45ae-ac00-7117ade99faf",
   "metadata": {},
   "source": [
    "#### A Fence Problem"
   ]
  },
  {
   "cell_type": "markdown",
   "id": "0fcdecba-ca13-43f5-949c-16f7c38e1575",
   "metadata": {},
   "source": [
    "##### To find the smallest possible value of L, we need to minimize the area of the plot. The minimum is below here."
   ]
  },
  {
   "cell_type": "code",
   "execution_count": 71,
   "id": "3f2758cd-c6b9-4e9e-865c-dab76957cada",
   "metadata": {},
   "outputs": [
    {
     "name": "stdout",
     "output_type": "stream",
     "text": [
      "0\n"
     ]
    }
   ],
   "source": [
    "def A(L):\n",
    "    return 80 - 2 * L\n",
    "\n",
    "L = 40\n",
    "result = A(L)\n",
    "print(result) "
   ]
  },
  {
   "cell_type": "markdown",
   "id": "e483dfda-1cb2-4370-ac25-f3fc381db275",
   "metadata": {},
   "source": [
    "##### Hence, the smallest possible value of L is 40."
   ]
  },
  {
   "cell_type": "markdown",
   "id": "4aa817ce-a45d-4cc2-baed-345685087e2d",
   "metadata": {},
   "source": [
    "##### To find the largest possible value of L, we need to find the total length of the fence is equal to the perimeter of the plot:"
   ]
  },
  {
   "cell_type": "code",
   "execution_count": 99,
   "id": "ceb6b39f-afba-46c6-9f76-25485f2afc56",
   "metadata": {},
   "outputs": [
    {
     "name": "stdout",
     "output_type": "stream",
     "text": [
      "Maximum area: 3200\n",
      "Optimal L: 40\n",
      "L is not equal to 80\n"
     ]
    }
   ],
   "source": [
    "L = symbols('L')\n",
    "\n",
    "area = 2 * L * (80 - L)\n",
    "\n",
    "area_derivative = diff(area, L)\n",
    "\n",
    "# Define a range of values for L to search\n",
    "L_values = range(81)  # From 0 to 80 (inclusive)\n",
    "\n",
    "# Initialize variables to keep track of the maximum area and corresponding L\n",
    "max_area = 0\n",
    "optimal_L = None\n",
    "\n",
    "# Brute-force search for the maximum area\n",
    "for L_val in L_values:\n",
    "    current_area = area.subs(L, L_val)\n",
    "    if current_area > max_area:\n",
    "        max_area = current_area\n",
    "        optimal_L = L_val\n",
    "\n",
    "print(\"Maximum area:\", max_area)\n",
    "print(\"Optimal L:\", optimal_L)\n",
    "\n",
    "if optimal_L == 80:\n",
    "    print(\"L = 80\")\n",
    "else:\n",
    "    print(\"L is not equal to 80\")"
   ]
  },
  {
   "cell_type": "markdown",
   "id": "e8254256-6d13-4595-bda5-d2f637c58089",
   "metadata": {},
   "source": [
    "##### Below is a column of possible values of the length L with an increment of 1"
   ]
  },
  {
   "cell_type": "code",
   "execution_count": 100,
   "id": "99500952-0670-473d-984a-a27077c87404",
   "metadata": {},
   "outputs": [
    {
     "name": "stdout",
     "output_type": "stream",
     "text": [
      "Length: 0 m, Width: 80 m\n",
      "Length: 1 m, Width: 79 m\n",
      "Length: 2 m, Width: 78 m\n",
      "Length: 3 m, Width: 77 m\n",
      "Length: 4 m, Width: 76 m\n",
      "Length: 5 m, Width: 75 m\n",
      "Length: 6 m, Width: 74 m\n",
      "Length: 7 m, Width: 73 m\n",
      "Length: 8 m, Width: 72 m\n",
      "Length: 9 m, Width: 71 m\n",
      "Length: 10 m, Width: 70 m\n",
      "Length: 11 m, Width: 69 m\n",
      "Length: 12 m, Width: 68 m\n",
      "Length: 13 m, Width: 67 m\n",
      "Length: 14 m, Width: 66 m\n",
      "Length: 15 m, Width: 65 m\n",
      "Length: 16 m, Width: 64 m\n",
      "Length: 17 m, Width: 63 m\n",
      "Length: 18 m, Width: 62 m\n",
      "Length: 19 m, Width: 61 m\n",
      "Length: 20 m, Width: 60 m\n",
      "Length: 21 m, Width: 59 m\n",
      "Length: 22 m, Width: 58 m\n",
      "Length: 23 m, Width: 57 m\n",
      "Length: 24 m, Width: 56 m\n",
      "Length: 25 m, Width: 55 m\n",
      "Length: 26 m, Width: 54 m\n",
      "Length: 27 m, Width: 53 m\n",
      "Length: 28 m, Width: 52 m\n",
      "Length: 29 m, Width: 51 m\n",
      "Length: 30 m, Width: 50 m\n",
      "Length: 31 m, Width: 49 m\n",
      "Length: 32 m, Width: 48 m\n",
      "Length: 33 m, Width: 47 m\n",
      "Length: 34 m, Width: 46 m\n",
      "Length: 35 m, Width: 45 m\n",
      "Length: 36 m, Width: 44 m\n",
      "Length: 37 m, Width: 43 m\n",
      "Length: 38 m, Width: 42 m\n",
      "Length: 39 m, Width: 41 m\n",
      "Length: 40 m, Width: 40 m\n",
      "Length: 41 m, Width: 39 m\n",
      "Length: 42 m, Width: 38 m\n",
      "Length: 43 m, Width: 37 m\n",
      "Length: 44 m, Width: 36 m\n",
      "Length: 45 m, Width: 35 m\n",
      "Length: 46 m, Width: 34 m\n",
      "Length: 47 m, Width: 33 m\n",
      "Length: 48 m, Width: 32 m\n",
      "Length: 49 m, Width: 31 m\n",
      "Length: 50 m, Width: 30 m\n",
      "Length: 51 m, Width: 29 m\n",
      "Length: 52 m, Width: 28 m\n",
      "Length: 53 m, Width: 27 m\n",
      "Length: 54 m, Width: 26 m\n",
      "Length: 55 m, Width: 25 m\n",
      "Length: 56 m, Width: 24 m\n",
      "Length: 57 m, Width: 23 m\n",
      "Length: 58 m, Width: 22 m\n",
      "Length: 59 m, Width: 21 m\n",
      "Length: 60 m, Width: 20 m\n",
      "Length: 61 m, Width: 19 m\n",
      "Length: 62 m, Width: 18 m\n",
      "Length: 63 m, Width: 17 m\n",
      "Length: 64 m, Width: 16 m\n",
      "Length: 65 m, Width: 15 m\n",
      "Length: 66 m, Width: 14 m\n",
      "Length: 67 m, Width: 13 m\n",
      "Length: 68 m, Width: 12 m\n",
      "Length: 69 m, Width: 11 m\n",
      "Length: 70 m, Width: 10 m\n",
      "Length: 71 m, Width: 9 m\n",
      "Length: 72 m, Width: 8 m\n",
      "Length: 73 m, Width: 7 m\n",
      "Length: 74 m, Width: 6 m\n",
      "Length: 75 m, Width: 5 m\n",
      "Length: 76 m, Width: 4 m\n",
      "Length: 77 m, Width: 3 m\n",
      "Length: 78 m, Width: 2 m\n",
      "Length: 79 m, Width: 1 m\n",
      "Length: 80 m, Width: 0 m\n"
     ]
    }
   ],
   "source": [
    "for L in range(81):\n",
    "    W = 80 - L\n",
    "    print(f\"Length: {L} m, Width: {W} m\")"
   ]
  },
  {
   "cell_type": "markdown",
   "id": "7cba3114-c6df-4552-b875-fefb11f23ef5",
   "metadata": {},
   "source": [
    "##### This is another column."
   ]
  },
  {
   "cell_type": "code",
   "execution_count": 101,
   "id": "d93fb657-513c-49a8-9e21-8759b7d094ac",
   "metadata": {},
   "outputs": [
    {
     "name": "stdout",
     "output_type": "stream",
     "text": [
      "[700, 1200, 1500, 1600, 1500]\n"
     ]
    }
   ],
   "source": [
    "def calculate_area(length):\n",
    "    width = 80 - length\n",
    "    area = length * width\n",
    "    return area\n",
    "\n",
    "lengths = [10, 20, 30, 40, 50]\n",
    "areas = []\n",
    "\n",
    "for length in lengths:\n",
    "    area = calculate_area(length)\n",
    "    areas.append(area)\n",
    "\n",
    "print(areas)"
   ]
  },
  {
   "cell_type": "markdown",
   "id": "990a065d-d117-436c-b28b-3966ae48a6aa",
   "metadata": {},
   "source": [
    "#### Here's a graph of the area vs. length."
   ]
  },
  {
   "cell_type": "code",
   "execution_count": 103,
   "id": "ec7da35f-2fb1-4507-9c00-ce24d2293bd5",
   "metadata": {},
   "outputs": [
    {
     "data": {
      "image/png": "[encoded data removed]",
      "text/plain": [
       "<Figure size 640x480 with 1 Axes>"
      ]
     },
     "metadata": {},
     "output_type": "display_data"
    }
   ],
   "source": [
    "import matplotlib.pyplot as plt\n",
    "\n",
    "def calculate_area(length):\n",
    "    width = 80 - length\n",
    "    area = length * width\n",
    "    return area\n",
    "\n",
    "lengths = range(1, 80)\n",
    "areas = [calculate_area(length) for length in lengths]\n",
    "\n",
    "plt.scatter(lengths, areas)\n",
    "\n",
    "plt.title(\"Area of Garden Plot vs Length\")\n",
    "plt.xlabel(\"Length\")\n",
    "plt.ylabel(\"Area\")\n",
    "\n",
    "plt.show()"
   ]
  },
  {
   "cell_type": "markdown",
   "id": "9871a307-a708-4753-8c98-86dacc44f4d9",
   "metadata": {},
   "source": [
    "##### For L, we get a minimum length of 0, and we get a maximum length of 80. It seems reasonable for the maximum length, but the area is seen as zero. For the minimum length, that doesn't seem reasonable because there cannot be a length of 0. Having a length of 0 would mean there is no area, therefore the shape wouldn't exist."
   ]
  },
  {
   "cell_type": "markdown",
   "id": "ba805440-bc4d-4891-aa6b-810cd6578171",
   "metadata": {},
   "source": [
    "##### To correct the error in your spreadsheet, where you initially assumed a length of 160 m but found out it's actually 170 m, you need to update the formulas and calclations accordingly. The formula for the width of the plot, W, in terms of L is given as W = 80 - L. Since the perimeter is now 170 m instead of 160 m, we can set up the equation:"
   ]
  },
  {
   "cell_type": "code",
   "execution_count": 110,
   "id": "4133395f-c65b-4d55-a9cc-ff0fb68ad9a0",
   "metadata": {},
   "outputs": [
    {
     "name": "stdout",
     "output_type": "stream",
     "text": [
      "False\n",
      "False\n",
      "False\n",
      "False\n"
     ]
    }
   ],
   "source": [
    "L = 0  \n",
    "W = 80 - L  \n",
    "\n",
    "print(2 * L + 2 * W == 170)  \n",
    "\n",
    "print(2 * L + 2 * (80 - L) == 170) \n",
    "\n",
    "print(2 * L + 160 - 2 * L == 170)  \n",
    "\n",
    "print(160 == 170) "
   ]
  },
  {
   "cell_type": "markdown",
   "id": "9a2aba6d-fcd9-47b8-9db7-2f393e79890f",
   "metadata": {},
   "source": [
    "##### We the expression for W, then simplifying and combine like terms. We see that the equation and solution is not realistic. Therefore, there is no solution that satisfies this equation."
   ]
  },
  {
   "cell_type": "markdown",
   "id": "15848258-3f01-44ca-8b89-36423494fa60",
   "metadata": {},
   "source": [
    "##### Here's a visualization of the graph between the length of the plot (L) and its corresponding area"
   ]
  },
  {
   "cell_type": "code",
   "execution_count": 111,
   "id": "9ab6f4db-06b5-4ecd-a6c1-a4ce51582423",
   "metadata": {},
   "outputs": [
    {
     "data": {
      "image/png": "[encoded data removed]",
      "text/plain": [
       "<Figure size 640x480 with 1 Axes>"
      ]
     },
     "metadata": {},
     "output_type": "display_data"
    }
   ],
   "source": [
    "import matplotlib.pyplot as plt\n",
    "\n",
    "length_values = []\n",
    "area_values = []\n",
    "\n",
    "for L in range(0, 81, 20):\n",
    "    length_values.append(L)\n",
    "    area_values.append(L * (80 - L))\n",
    "\n",
    "plt.plot(length_values, area_values)\n",
    "plt.xlabel('Length of Plot')\n",
    "plt.ylabel('Area of Plot')\n",
    "plt.title('Relationship between Length and Area of Plot')\n",
    "plt.grid(True)\n",
    "plt.show()"
   ]
  },
  {
   "cell_type": "markdown",
   "id": "e3410dd6-1e17-4db6-93be-e305ad7c1a0a",
   "metadata": {},
   "source": [
    "##### As you can tell, we are incrementing the length values of 20 and thus the graphs displays those intervals. If we ever attempted to change the increment so small as 0.01, we would high a very large number of data points being plotted, which would be an extremely dense graph. That plot is rather impractical and would be rather ambiguous in what it means."
   ]
  },
  {
   "cell_type": "markdown",
   "id": "0736ec44-601c-42f6-8218-f8cf28966f61",
   "metadata": {},
   "source": [
    "#### Now, we will be looking at the speed of an automobile that goes 88 feet per second in Km/h."
   ]
  },
  {
   "cell_type": "code",
   "execution_count": 112,
   "id": "475c1aef-12a3-4be1-a8e1-bcc921d6c1f6",
   "metadata": {},
   "outputs": [
    {
     "name": "stdout",
     "output_type": "stream",
     "text": [
      "60.0\n"
     ]
    }
   ],
   "source": [
    "feet_per_second = 88.0\n",
    "miles_per_hour = feet_per_second * 0.68181818181818  # Conversion factor from feet/s to miles/h\n",
    "\n",
    "sig_figures = len(str(int(miles_per_hour))) + len(str(int(miles_per_hour * 10)))\n",
    "\n",
    "rounded_mph = round(miles_per_hour, sig_figures)\n",
    "\n",
    "print(rounded_mph)"
   ]
  },
  {
   "cell_type": "markdown",
   "id": "ebc71d9a-f8a3-4891-b647-d634a3e05baf",
   "metadata": {},
   "source": [
    "##### Now, we will be looking at the same speed of an automobile in meters per second."
   ]
  },
  {
   "cell_type": "code",
   "execution_count": 113,
   "id": "5160a513-b85d-4c74-8627-e6094d4f87b4",
   "metadata": {},
   "outputs": [
    {
     "name": "stdout",
     "output_type": "stream",
     "text": [
      "26.8224\n"
     ]
    }
   ],
   "source": [
    "feet_per_second = 88.0\n",
    "meters_per_second = feet_per_second * 0.3048  \n",
    "\n",
    "sig_figures = len(str(int(meters_per_second))) + len(str(int(meters_per_second * 10)))\n",
    "\n",
    "rounded_mps = round(meters_per_second, sig_figures)\n",
    "\n",
    "print(rounded_mps)"
   ]
  },
  {
   "cell_type": "markdown",
   "id": "314404f9-7d6f-410a-8ea1-ecb111359b41",
   "metadata": {},
   "source": [
    "##### Below will give us a Rolls Royce can accelerate from 0 to 96.0 km/h in 8.20 seconds in m/s^2"
   ]
  },
  {
   "cell_type": "code",
   "execution_count": 115,
   "id": "979afe82-fece-4e2f-a321-3503f6ac35b8",
   "metadata": {},
   "outputs": [
    {
     "name": "stdout",
     "output_type": "stream",
     "text": [
      "Acceleration: 3.25 m/s^2\n"
     ]
    }
   ],
   "source": [
    "speed_km_h = 96.0  \n",
    "time_s = 8.20     \n",
    "\n",
    "speed_m_s = speed_km_h * 0.2778  \n",
    "acceleration = speed_m_s / time_s  \n",
    "\n",
    "acceleration_rounded = round(acceleration, 2)\n",
    "\n",
    "print(\"Acceleration:\", acceleration_rounded, \"m/s^2\")"
   ]
  },
  {
   "cell_type": "markdown",
   "id": "ce2602ad-90dd-41da-a69a-fed9e2a8459e",
   "metadata": {},
   "source": [
    "##### Below will give us a Rolls Royce acceleration on gravity."
   ]
  },
  {
   "cell_type": "code",
   "execution_count": 116,
   "id": "237321ff-f9bb-4913-ae57-0d332d34a780",
   "metadata": {},
   "outputs": [
    {
     "name": "stdout",
     "output_type": "stream",
     "text": [
      "Acceleration: 2.721 m/s^2\n"
     ]
    }
   ],
   "source": [
    "speed_kmh = 96.0\n",
    "speed_ms = speed_kmh * (1000/3600)\n",
    "acceleration_g = speed_ms / 9.8\n",
    "acceleration_g_rounded = round(acceleration_g, 3)\n",
    "print(\"Acceleration:\", acceleration_g_rounded, \"m/s^2\")"
   ]
  },
  {
   "cell_type": "markdown",
   "id": "bb531aca-dced-408d-aa30-46639b8c7c62",
   "metadata": {},
   "source": [
    "##### Here, we find the area of a lab table in cm^2"
   ]
  },
  {
   "cell_type": "code",
   "execution_count": 122,
   "id": "8a75874f-f4ee-4429-afec-9810b6a3abee",
   "metadata": {},
   "outputs": [
    {
     "name": "stdout",
     "output_type": "stream",
     "text": [
      "The area of the lab table is 26288 cm².\n"
     ]
    }
   ],
   "source": [
    "width = 124\n",
    "length = 212\n",
    "area = width * length\n",
    "rounded_area = round(area, num_significant_figures)\n",
    "print(f\"The area of the lab table is {area} cm².\")"
   ]
  },
  {
   "cell_type": "markdown",
   "id": "024b5862-f038-401c-a441-8476124a431c",
   "metadata": {},
   "source": [
    "##### Here, we find the area of a lab table in m^2"
   ]
  },
  {
   "cell_type": "code",
   "execution_count": 123,
   "id": "39396b47-4aee-42c8-8f02-09927c7182dc",
   "metadata": {},
   "outputs": [
    {
     "name": "stdout",
     "output_type": "stream",
     "text": [
      "The area of the lab table is 2.629 m^2.\n"
     ]
    }
   ],
   "source": [
    "width_cm = 124\n",
    "length_cm = 212\n",
    "\n",
    "width_m = width_cm / 100\n",
    "length_m = length_cm / 100\n",
    "\n",
    "area_m2 = width_m * length_m\n",
    "rounded_area_m2 = round(area_m2, 3) \n",
    "\n",
    "print(f\"The area of the lab table is {rounded_area_m2} m^2.\")"
   ]
  },
  {
   "cell_type": "markdown",
   "id": "3d17aedc-35ab-4299-a47d-b2d6d2e95e4d",
   "metadata": {},
   "source": [
    "##### Suppose, you are located 149,598,000 km from the Sun.  At midnight, you look overhead at a star which is located 4.26 light years away. We are 4.029945 x10^13 because the distance from the sun is a small number compared to the star further from it."
   ]
  },
  {
   "cell_type": "markdown",
   "id": "96034234-cd17-4c42-9f56-f947bbd8e6ce",
   "metadata": {},
   "source": [
    "##### Given the numbers  9.82 m, 12.6785 m and 234.5 m. Their roundedest to the correct number of significant figures to the product is:"
   ]
  },
  {
   "cell_type": "code",
   "execution_count": 127,
   "id": "ab30a572-1e2d-4980-a8ad-e68f0def0695",
   "metadata": {},
   "outputs": [
    {
     "name": "stdout",
     "output_type": "stream",
     "text": [
      "29200.0\n"
     ]
    }
   ],
   "source": [
    "num1 = 9.82\n",
    "num2 = 12.6785\n",
    "num3 = 234.5\n",
    "\n",
    "product = num1 * num2 * num3\n",
    "rounded_product = round(product, 3 - int(math.floor(math.log10(abs(product)))) - 1)\n",
    "print(rounded_product)"
   ]
  },
  {
   "cell_type": "code",
   "execution_count": null,
   "id": "0bb62adf-4a6d-4dba-86af-125f6f8491af",
   "metadata": {},
   "outputs": [],
   "source": []
  }
 ],
 "metadata": {
  "kernelspec": {
   "display_name": "Python 3 (ipykernel)",
   "language": "python",
   "name": "python3"
  },
  "language_info": {
   "codemirror_mode": {
    "name": "ipython",
    "version": 3
   },
   "file_extension": ".py",
   "mimetype": "text/x-python",
   "name": "python",
   "nbconvert_exporter": "python",
   "pygments_lexer": "ipython3",
   "version": "3.8.16"
  }
 },
 "nbformat": 4,
 "nbformat_minor": 5
}

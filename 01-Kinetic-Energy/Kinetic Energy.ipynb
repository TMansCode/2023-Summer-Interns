{
 "cells": [
  {
   "cell_type": "code",
   "execution_count": 10,
   "id": "8589b99d-4669-48f4-98f8-d9dadb3f4506",
   "metadata": {},
   "outputs": [
    {
     "name": "stdout",
     "output_type": "stream",
     "text": [
      "The Kinetic Energy of the Kia at school is 506475.0\n",
      "The Kinetic Energy of the Kia all through the town is 4558275.0\n",
      "The Kinetic Energy of the Kia on the highway is 9510475.0\n"
     ]
    }
   ],
   "source": [
    "massKia = 4502 \n",
    "KiaSchool = 15\n",
    "KiaTown = 45\n",
    "KiaHighway = 65;\n",
    "KiaKineticEnergy1 = float(.5) * massKia * (KiaSchool)**2\n",
    "KiaKineticEnergy2 = float(.5) * massKia * (KiaTown)**2\n",
    "KiaKineticEnergy3 = float(.5) * massKia * (KiaHighway)**2 \n",
    "print(f\"The Kinetic Energy of the Kia at school is {KiaKineticEnergy1}\")\n",
    "print(f\"The Kinetic Energy of the Kia all through the town is {KiaKineticEnergy2}\")\n",
    "print(f\"The Kinetic Energy of the Kia on the highway is {KiaKineticEnergy3}\")\n"
   ]
  },
  {
   "cell_type": "code",
   "execution_count": 7,
   "id": "e1bd704f-255c-40b5-8c14-8b3bb158ebe4",
   "metadata": {},
   "outputs": [
    {
     "name": "stdout",
     "output_type": "stream",
     "text": [
      "The Kinetic Energy of the Ford at school is 676687.5\n",
      "The Kinetic Energy of the Ford all through the town is 6090187.5\n",
      "The Kinetic Energy of the Ford on the highway is 12706687.5\n"
     ]
    }
   ],
   "source": [
    "massFord = 6015\n",
    "FordSchool = 15\n",
    "FordTown = 45\n",
    "FordHighway = 65\n",
    "FordKineticEnergy1 = .5 * massFord * (FordSchool)**2\n",
    "FordKineticEnergy2 = .5 * massFord * (FordTown)**2\n",
    "FordKineticEnergy3 = .5 * massFord * (FordHighway)**2\n",
    "print(f\"The Kinetic Energy of the Ford at school is {FordKineticEnergy1}\")\n",
    "print(f\"The Kinetic Energy of the Ford all through the town is {FordKineticEnergy2}\")\n",
    "print(f\"The Kinetic Energy of the Ford on the highway is {FordKineticEnergy3}\")"
   ]
  },
  {
   "cell_type": "code",
   "execution_count": 8,
   "id": "23c156c4-2f88-4fbc-ac5a-2322b6624fbf",
   "metadata": {},
   "outputs": [
    {
     "name": "stdout",
     "output_type": "stream",
     "text": [
      "The Kinetic Energy of the Fiat at school is 371812.5\n",
      "The Kinetic Energy of the Fiat all through the town is 3346312.5\n",
      "The Kinetic Energy of the Fiat on the highway is 6981812.5\n"
     ]
    }
   ],
   "source": [
    "massFiat = 3305\n",
    "FiatSchool = 15\n",
    "FiatTown = 45\n",
    "FiatHighway = 65\n",
    "FiatKineticEnergy1 = .5 * massFiat * (FiatSchool)**2\n",
    "FiatKineticEnergy2 = .5 * massFiat * (FiatTown)**2\n",
    "FiatKineticEnergy3 = .5 * massFiat * (FiatHighway)**2\n",
    "print(f\"The Kinetic Energy of the Fiat at school is {FiatKineticEnergy1}\")\n",
    "print(f\"The Kinetic Energy of the Fiat all through the town is {FiatKineticEnergy2}\")\n",
    "print(f\"The Kinetic Energy of the Fiat on the highway is {FiatKineticEnergy3}\")"
   ]
  },
  {
   "cell_type": "code",
   "execution_count": 9,
   "id": "41b6fa41-4614-4ff5-827b-3b8a59a7e305",
   "metadata": {},
   "outputs": [
    {
     "name": "stdout",
     "output_type": "stream",
     "text": [
      "The Kinetic Energy of the Dodge at school is 458212.5\n",
      "The Kinetic Energy of the Dodge all through the town is 4123912.5\n",
      "The Kinetic Energy of the Dodge on the highway is 8604212.5\n"
     ]
    }
   ],
   "source": [
    "massDodge = 4073\n",
    "DodgeSchool = 15\n",
    "DodgeTown = 45\n",
    "DodgeHighway = 65\n",
    "DodgeKineticEnergy1 = .5 * massDodge * (DodgeSchool)**2\n",
    "DodgeKineticEnergy2 = .5 * massDodge * (DodgeTown)**2\n",
    "DodgeKineticEnergy3 = .5 * massDodge * (DodgeHighway)**2\n",
    "print(f\"The Kinetic Energy of the Dodge at school is {DodgeKineticEnergy1}\")\n",
    "print(f\"The Kinetic Energy of the Dodge all through the town is {DodgeKineticEnergy2}\")\n",
    "print(f\"The Kinetic Energy of the Dodge on the highway is {DodgeKineticEnergy3}\")      \n",
    "      "
   ]
  },
  {
   "cell_type": "code",
   "execution_count": null,
   "id": "a6667461-668f-4baa-8437-7f22395dbf40",
   "metadata": {},
   "outputs": [],
   "source": []
  }
 ],
 "metadata": {
  "kernelspec": {
   "display_name": "Python 3 (ipykernel)",
   "language": "python",
   "name": "python3"
  },
  "language_info": {
   "codemirror_mode": {
    "name": "ipython",
    "version": 3
   },
   "file_extension": ".py",
   "mimetype": "text/x-python",
   "name": "python",
   "nbconvert_exporter": "python",
   "pygments_lexer": "ipython3",
   "version": "3.8.16"
  }
 },
 "nbformat": 4,
 "nbformat_minor": 5
}

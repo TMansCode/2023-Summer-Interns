{
 "cells": [
  {
   "cell_type": "code",
   "execution_count": 1,
   "id": "8589b99d-4669-48f4-98f8-d9dadb3f4506",
   "metadata": {},
   "outputs": [
    {
     "name": "stdout",
     "output_type": "stream",
     "text": [
      "Kia's kinetic energy at school speed: 45971.246096989365\n",
      "Kia's kinetic energy at town speed: 413330.24771189416\n",
      "Kia's kinetic energy at highway speed: 862248.515805347\n"
     ]
    }
   ],
   "source": [
    "def pounds_to_kilograms(pounds):\n",
    "    kilograms = pounds * 0.45359237\n",
    "    return kilograms\n",
    "\n",
    "kia_mass_pounds = 4502\n",
    "massKia = pounds_to_kilograms(kia_mass_pounds)\n",
    "\n",
    "#print(\"Kia mass in pounds:\", kia_mass_pounds)\n",
    "#print(\"Kia mass in kilograms:\", massKia)\n",
    "\n",
    "KiaSchool = 6.71 \n",
    "KiaTown = 20.12  \n",
    "KiaHighway = 29.06 \n",
    "\n",
    "KiaKineticEnergy1 = 0.5 * massKia * KiaSchool**2\n",
    "KiaKineticEnergy2 = 0.5 * massKia * KiaTown**2\n",
    "KiaKineticEnergy3 = 0.5 * massKia * KiaHighway**2\n",
    "\n",
    "print(\"Kia's kinetic energy at school speed:\", KiaKineticEnergy1)\n",
    "print(\"Kia's kinetic energy at town speed:\", KiaKineticEnergy2)\n",
    "print(\"Kia's kinetic energy at highway speed:\", KiaKineticEnergy3)"
   ]
  },
  {
   "cell_type": "code",
   "execution_count": 2,
   "id": "e1bd704f-255c-40b5-8c14-8b3bb158ebe4",
   "metadata": {},
   "outputs": [
    {
     "name": "stdout",
     "output_type": "stream",
     "text": [
      "Ford's kinetic energy at school speed: 61420.93409004688\n",
      "Ford's kinetic energy at town speed: 552239.3247416801\n",
      "Ford's kinetic energy at highway speed: 1152026.837532022\n"
     ]
    }
   ],
   "source": [
    "def pounds_to_kilograms(pounds):\n",
    "    kilograms = pounds * 0.45359237\n",
    "    return kilograms\n",
    "\n",
    "ford_mass_pounds = 6015\n",
    "massFord = pounds_to_kilograms(ford_mass_pounds)\n",
    "\n",
    "#print(\"Ford mass in pounds:\", kia_mass_pounds)\n",
    "#print(\"Ford mass in kilograms:\", massKia)\n",
    "\n",
    "FordSchool = 6.71 \n",
    "FordTown = 20.12  \n",
    "FordHighway = 29.06 \n",
    "\n",
    "FordKineticEnergy1 = 0.5 * massFord * FordSchool**2\n",
    "FordKineticEnergy2 = 0.5 * massFord * FordTown**2\n",
    "FordKineticEnergy3 = 0.5 * massFord * FordHighway**2\n",
    "\n",
    "print(\"Ford's kinetic energy at school speed:\", FordKineticEnergy1)\n",
    "print(\"Ford's kinetic energy at town speed:\", FordKineticEnergy2)\n",
    "print(\"Ford's kinetic energy at highway speed:\", FordKineticEnergy3)"
   ]
  },
  {
   "cell_type": "code",
   "execution_count": 3,
   "id": "23c156c4-2f88-4fbc-ac5a-2322b6624fbf",
   "metadata": {},
   "outputs": [
    {
     "name": "stdout",
     "output_type": "stream",
     "text": [
      "Fiat's kinetic energy at school speed: 33748.32704365834\n",
      "Fiat's kinetic energy at town speed: 303433.24493287655\n",
      "Fiat's kinetic energy at highway speed: 632992.3022515931\n"
     ]
    }
   ],
   "source": [
    "def pounds_to_kilograms(pounds):\n",
    "    kilograms = pounds * 0.45359237\n",
    "    return kilograms\n",
    "\n",
    "fiat_mass_pounds = 3305\n",
    "massFiat = pounds_to_kilograms(fiat_mass_pounds)\n",
    "\n",
    "#print(\"Fiat mass in pounds:\", kia_mass_pounds)\n",
    "#print(\"Fiat mass in kilograms:\", massKia)\n",
    "\n",
    "FiatSchool = 6.71 \n",
    "FiatTown = 20.12  \n",
    "FiatHighway = 29.06 \n",
    "\n",
    "FiatKineticEnergy1 = 0.5 * massFiat * FiatSchool**2\n",
    "FiatKineticEnergy2 = 0.5 * massFiat * FiatTown**2\n",
    "FiatKineticEnergy3 = 0.5 * massFiat * FiatHighway**2\n",
    "\n",
    "print(\"Fiat's kinetic energy at school speed:\", FiatKineticEnergy1)\n",
    "print(\"Fiat's kinetic energy at town speed:\", FiatKineticEnergy2)\n",
    "print(\"Fiat's kinetic energy at highway speed:\", FiatKineticEnergy3)"
   ]
  },
  {
   "cell_type": "code",
   "execution_count": 4,
   "id": "41b6fa41-4614-4ff5-827b-3b8a59a7e305",
   "metadata": {},
   "outputs": [
    {
     "name": "stdout",
     "output_type": "stream",
     "text": [
      "Dodge's kinetic energy at school speed: 41590.60092248727\n",
      "Dodge's kinetic energy at town speed: 373943.6026056297\n",
      "Dodge's kinetic energy at highway speed: 780084.0081908437\n"
     ]
    }
   ],
   "source": [
    "def pounds_to_kilograms(pounds):\n",
    "    kilograms = pounds * 0.45359237\n",
    "    return kilograms\n",
    "\n",
    "dodge_mass_pounds = 4073\n",
    "massDodge = pounds_to_kilograms(dodge_mass_pounds)\n",
    "\n",
    "#print(\"Dodge mass in pounds:\", kia_mass_pounds)\n",
    "#print(\"Dodge mass in kilograms:\", massKia)\n",
    "\n",
    "DodgeSchool = 6.71 \n",
    "DodgeTown = 20.12  \n",
    "DodgeHighway = 29.06 \n",
    "\n",
    "DodgeKineticEnergy1 = 0.5 * massDodge * DodgeSchool**2\n",
    "DodgeKineticEnergy2 = 0.5 * massDodge * DodgeTown**2\n",
    "DodgeKineticEnergy3 = 0.5 * massDodge * DodgeHighway**2\n",
    "\n",
    "print(\"Dodge's kinetic energy at school speed:\", DodgeKineticEnergy1)\n",
    "print(\"Dodge's kinetic energy at town speed:\", DodgeKineticEnergy2)\n",
    "print(\"Dodge's kinetic energy at highway speed:\", DodgeKineticEnergy3)  "
   ]
  },
  {
   "cell_type": "code",
   "execution_count": 5,
   "id": "a6667461-668f-4baa-8437-7f22395dbf40",
   "metadata": {},
   "outputs": [
    {
     "name": "stdout",
     "output_type": "stream",
     "text": [
      "The Kinetic Energy of the Kia at school is 45971.246096989365\n",
      "The Kinetic Energy of the Kia all through the town is 413330.24771189416\n",
      "The Kinetic Energy of the Kia on the highway is 862248.515805347\n",
      "The Kinetic Energy of the Ford at school is 61420.93409004688\n",
      "The Kinetic Energy of the Ford all through the town is 552239.3247416801\n",
      "The Kinetic Energy of the Ford on the highway is 1152026.837532022\n",
      "The Kinetic Energy of the Fiat at school is 33748.32704365834\n",
      "The Kinetic Energy of the Fiat all through the town is 303433.24493287655\n",
      "The Kinetic Energy of the Fiat on the highway is 632992.3022515931\n",
      "The Kinetic Energy of the Dodge at school is 41590.60092248727\n",
      "The Kinetic Energy of the Dodge all through the town is 373943.6026056297\n",
      "The Kinetic Energy of the Dodge on the highway is 780084.0081908437\n"
     ]
    }
   ],
   "source": [
    "print(f\"The Kinetic Energy of the Kia at school is {KiaKineticEnergy1}\")\n",
    "print(f\"The Kinetic Energy of the Kia all through the town is {KiaKineticEnergy2}\")\n",
    "print(f\"The Kinetic Energy of the Kia on the highway is {KiaKineticEnergy3}\")\n",
    "print(f\"The Kinetic Energy of the Ford at school is {FordKineticEnergy1}\")\n",
    "print(f\"The Kinetic Energy of the Ford all through the town is {FordKineticEnergy2}\")\n",
    "print(f\"The Kinetic Energy of the Ford on the highway is {FordKineticEnergy3}\")\n",
    "print(f\"The Kinetic Energy of the Fiat at school is {FiatKineticEnergy1}\")\n",
    "print(f\"The Kinetic Energy of the Fiat all through the town is {FiatKineticEnergy2}\")\n",
    "print(f\"The Kinetic Energy of the Fiat on the highway is {FiatKineticEnergy3}\")\n",
    "print(f\"The Kinetic Energy of the Dodge at school is {DodgeKineticEnergy1}\")\n",
    "print(f\"The Kinetic Energy of the Dodge all through the town is {DodgeKineticEnergy2}\")\n",
    "print(f\"The Kinetic Energy of the Dodge on the highway is {DodgeKineticEnergy3}\")"
   ]
  },
  {
   "cell_type": "code",
   "execution_count": 8,
   "id": "cf3b9740-9e97-42a7-b85a-9047d9bf821c",
   "metadata": {},
   "outputs": [
    {
     "name": "stdout",
     "output_type": "stream",
     "text": [
      "          KIA,        FORD,     FIAT,     DODGE\n",
      "Schools  45,971.25  61,420.93  33,748.33  41,590.60\n",
      "Towns 413,330.25   552,239.32  303,433.24  373,943.60\n",
      "Highway 862,248.52 1,152,026.84 632,992.30 780,084.01\n"
     ]
    }
   ],
   "source": [
    "print(f\"          KIA,        FORD,     FIAT,     DODGE\")\n",
    "print(f\"Schools {KiaKineticEnergy1:10,.2f} {FordKineticEnergy1:10,.2f} {FiatKineticEnergy1:10,.2f} {DodgeKineticEnergy1:10,.2f}\")\n",
    "print(f\"Towns {KiaKineticEnergy2:10,.2f}   {FordKineticEnergy2:10,.2f}  {FiatKineticEnergy2:10,.2f}  {DodgeKineticEnergy2:10,.2f}\")\n",
    "print(f\"Highway {KiaKineticEnergy3:10,.2f} {FordKineticEnergy3:10,.2f} {FiatKineticEnergy3:10,.2f} {DodgeKineticEnergy3:10,.2f}\")"
   ]
  },
  {
   "cell_type": "code",
   "execution_count": null,
   "id": "5074187a-a692-4809-ac98-f53e1a065bda",
   "metadata": {},
   "outputs": [],
   "source": []
  },
  {
   "cell_type": "code",
   "execution_count": null,
   "id": "7281e4ac-35e2-4b78-9619-5d86a114b4c9",
   "metadata": {},
   "outputs": [],
   "source": []
  }
 ],
 "metadata": {
  "kernelspec": {
   "display_name": "Python 3 (ipykernel)",
   "language": "python",
   "name": "python3"
  },
  "language_info": {
   "codemirror_mode": {
    "name": "ipython",
    "version": 3
   },
   "file_extension": ".py",
   "mimetype": "text/x-python",
   "name": "python",
   "nbconvert_exporter": "python",
   "pygments_lexer": "ipython3",
   "version": "3.8.16"
  }
 },
 "nbformat": 4,
 "nbformat_minor": 5
}

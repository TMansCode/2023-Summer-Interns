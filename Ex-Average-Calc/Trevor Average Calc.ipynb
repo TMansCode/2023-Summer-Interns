{
 "cells": [
  {
   "cell_type": "code",
   "execution_count": null,
   "id": "716bafdf-372f-4e10-a922-958724fde572",
   "metadata": {},
   "outputs": [],
   "source": [
    "numbers = []\n",
    "values = input(\"Enter an input of values sepaarated, rated by comm'as\")\n",
    "for value in values.split(','):\n",
    "    numbers.append(int(value))\n",
    "\n",
    "f\"You entered {numbers}\""
   ]
  },
  {
   "cell_type": "code",
   "execution_count": null,
   "id": "b861ef8f-5a23-4123-ae20-81761064f533",
   "metadata": {},
   "outputs": [],
   "source": []
  },
  {
   "cell_type": "code",
   "execution_count": null,
   "id": "fe935636-1c9d-4004-a9c8-918f039caa52",
   "metadata": {},
   "outputs": [],
   "source": [
    "numtum = len(numbers)\n",
    "f\"The num of vals are {numtum}\""
   ]
  },
  {
   "cell_type": "code",
   "execution_count": null,
   "id": "e00ba4bb-998d-4ab4-b008-c0f438ebb474",
   "metadata": {},
   "outputs": [],
   "source": [
    "sum = 0\n",
    "for number in numbers:\n",
    "    sum += number\n",
    "mean = sum / len(numbers)\n",
    "\n",
    "print(f\"The total of the values is {sum}\")\n",
    "print(f\"The mean of the values is {mean}\")"
   ]
  },
  {
   "cell_type": "code",
   "execution_count": null,
   "id": "14600b7c-0883-4433-9166-5ec786ad4faf",
   "metadata": {},
   "outputs": [],
   "source": [
    "import statistics\n",
    "sd = statistics.stdev(numbers)\n",
    "f\"The standard deviation is {sd}\""
   ]
  },
  {
   "cell_type": "code",
   "execution_count": null,
   "id": "c6d775aa-0530-4869-947b-fc17ceff0b63",
   "metadata": {},
   "outputs": [],
   "source": [
    "print(f\"For the following numbers {numbers}\")\n",
    "print(f\"The values of numbers are {numtum}\")\n",
    "print(f\"The mean of the values are {mean}\")\n",
    "print(f\"The standard deviation is {sd}\")"
   ]
  }
 ],
 "metadata": {
  "kernelspec": {
   "display_name": "Python 3 (ipykernel)",
   "language": "python",
   "name": "python3"
  },
  "language_info": {
   "codemirror_mode": {
    "name": "ipython",
    "version": 3
   },
   "file_extension": ".py",
   "mimetype": "text/x-python",
   "name": "python",
   "nbconvert_exporter": "python",
   "pygments_lexer": "ipython3",
   "version": "3.8.16"
  }
 },
 "nbformat": 4,
 "nbformat_minor": 5
}
